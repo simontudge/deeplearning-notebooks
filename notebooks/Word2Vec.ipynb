{
 "cells": [
  {
   "cell_type": "markdown",
   "metadata": {},
   "source": [
    "# Word2Vec"
   ]
  },
  {
   "cell_type": "markdown",
   "metadata": {},
   "source": [
    "A demonstation of the main word2vec alorithms.\n",
    "\n",
    "In this notebook I take a corpus of text, such as shakespeare, and embed all the words found there into a lower dimentional space. I then look at how these worsds are releated to each other. This project can use the same input as the LSTM model, so does not need a seperate data-prep notebook."
   ]
  },
  {
   "cell_type": "markdown",
   "metadata": {
    "collapsed": true
   },
   "source": [
    "Take the shakespeare text and pass it through the tokenizer. We should ignore some of the most rare words, as this will make our task impossible."
   ]
  },
  {
   "cell_type": "markdown",
   "metadata": {},
   "source": [
    "We then convert our text to tokens, this is simply a list of numbers in place of our text."
   ]
  },
  {
   "cell_type": "markdown",
   "metadata": {},
   "source": [
    "Make sure that we have dictionaries that do both conversions of numbers to words and words to numbers."
   ]
  },
  {
   "cell_type": "markdown",
   "metadata": {},
   "source": [
    "Run this through the skip-gram model, this gives us pairs of words, context and focal word, as well as binary are a pair not a pair. Remeber to construct the lookup table for the words, this may be important."
   ]
  },
  {
   "cell_type": "markdown",
   "metadata": {},
   "source": [
    "Now build the model. Use the funcitonal API for this as there are some complexities here."
   ]
  },
  {
   "cell_type": "markdown",
   "metadata": {},
   "source": [
    "Once we have trained the model contruct the idea of A is to B as C is to what ... and test it with a few obvious things, such as the characters in the play etc."
   ]
  },
  {
   "cell_type": "markdown",
   "metadata": {},
   "source": [
    "Take a list of words and look at their nearest neighbours. This should make some sense intuatively."
   ]
  },
  {
   "cell_type": "markdown",
   "metadata": {},
   "source": [
    "Build an overall 2D representation of the words. This should show words that seem related close to each other."
   ]
  },
  {
   "cell_type": "code",
   "execution_count": 1,
   "metadata": {
    "collapsed": false
   },
   "outputs": [
    {
     "name": "stderr",
     "output_type": "stream",
     "text": [
      "Using TensorFlow backend.\n"
     ]
    }
   ],
   "source": [
    "from keras.preprocessing.text import Tokenizer\n",
    "from keras.models import Sequential, Model\n",
    "from keras.layers import Embedding, Dense, Input, merge, Reshape\n",
    "from keras.activations import sigmoid\n",
    "from collections import Counter\n",
    "import string\n",
    "import numpy as np\n",
    "from sklearn.model_selection import train_test_split"
   ]
  },
  {
   "cell_type": "markdown",
   "metadata": {},
   "source": [
    "### Parameters"
   ]
  },
  {
   "cell_type": "markdown",
   "metadata": {},
   "source": [
    "These are the main things to play with in the model. There are other things you could potentially tweak of course."
   ]
  },
  {
   "cell_type": "code",
   "execution_count": 2,
   "metadata": {
    "collapsed": true
   },
   "outputs": [],
   "source": [
    "# Words must appear atleast this many times in the corpus to be counted\n",
    "threshold = 25\n",
    "# How many words either side to include as context. As small as one can word\n",
    "# larger windows take longer to train, but might give a more neuanced approach\n",
    "# A very large window might begin to break down. I suggest trying one to begin\n",
    "# with, and then moving no higher than 5.\n",
    "window_size = 1\n",
    "# Dimentionality of the embedding space. 300 is quite typical, but the examples\n",
    "# I've seen often use a bigger corpus, so maybe smaller than that might be appropriate\n",
    "emb_dim = 128"
   ]
  },
  {
   "cell_type": "markdown",
   "metadata": {},
   "source": [
    "Things to play around with:\n",
    "* Does training it over more epochs really help\n",
    "* Try other variations of the model, such as using the one-hot encodings, window word must predict the focus word, this takes longer to train, and some people have claimed that the trick I am using is actually almost as good as the much longer model, but could be interesting to see if this were the case.\n",
    "* Try the GLoVe model, a variation on this.\n",
    "* Split the words into sentences. Only words in the same sentence matter. A word being next to another word, but seperated by a full-stop are not necessarily related.\n",
    "* Mess around with the window size, how does this effect the results.\n",
    "* Make the embeddin dimention smaller. Does this lead to quicker training? (should do) but still give similiar quality results.\n",
    "* Try the CBOW model. In this one we sum the one-hot representations of all window words and use these to try to predict the focal word.\n",
    "* What is the effect of removing known positive samples from the list of known negative samples."
   ]
  },
  {
   "cell_type": "markdown",
   "metadata": {},
   "source": [
    "## Preprocessing"
   ]
  },
  {
   "cell_type": "markdown",
   "metadata": {},
   "source": [
    "Load the data into a single string, should be small enough to fit into memory."
   ]
  },
  {
   "cell_type": "code",
   "execution_count": 3,
   "metadata": {
    "collapsed": true
   },
   "outputs": [],
   "source": [
    "file_name = '../data/text/simpleshake.txt'\n",
    "with open(file_name, 'rt') as f:\n",
    "    text = f.read()"
   ]
  },
  {
   "cell_type": "markdown",
   "metadata": {},
   "source": [
    "And tokenize the words. This is a way of replacing every word with an integer, such that the most common word becomes 1 and the next 2 etc. until a prespecified number of words. Very rare words will be replaced by a special token such as None or 0."
   ]
  },
  {
   "cell_type": "markdown",
   "metadata": {},
   "source": [
    "I'm having some trouble with the keras tokenizer, so I'll write some logic myself. This should be straight-forward."
   ]
  },
  {
   "cell_type": "code",
   "execution_count": 4,
   "metadata": {
    "collapsed": false
   },
   "outputs": [],
   "source": [
    "text = text.replace('.', ' ').replace(',', ' ')"
   ]
  },
  {
   "cell_type": "code",
   "execution_count": 5,
   "metadata": {
    "collapsed": false
   },
   "outputs": [],
   "source": [
    "word_counts = Counter(text.split())"
   ]
  },
  {
   "cell_type": "code",
   "execution_count": 6,
   "metadata": {
    "collapsed": false
   },
   "outputs": [
    {
     "data": {
      "text/plain": [
       "30410"
      ]
     },
     "execution_count": 6,
     "metadata": {},
     "output_type": "execute_result"
    }
   ],
   "source": [
    "len(word_counts)"
   ]
  },
  {
   "cell_type": "markdown",
   "metadata": {},
   "source": [
    "Let's get rid of rare words, this is defined as a threshould that a word must appear more than to be included."
   ]
  },
  {
   "cell_type": "code",
   "execution_count": 7,
   "metadata": {
    "collapsed": false
   },
   "outputs": [],
   "source": [
    "word_counts_cut = [k for k in word_counts if word_counts[k] > threshold]"
   ]
  },
  {
   "cell_type": "code",
   "execution_count": 8,
   "metadata": {
    "collapsed": false
   },
   "outputs": [
    {
     "name": "stdout",
     "output_type": "stream",
     "text": [
      "Total words: 3082\n"
     ]
    }
   ],
   "source": [
    "vocab_size = len(word_counts_cut)\n",
    "print(\"Total words: {}\".format(vocab_size))"
   ]
  },
  {
   "cell_type": "markdown",
   "metadata": {},
   "source": [
    "And sort the cut words now, from most common to most rare."
   ]
  },
  {
   "cell_type": "code",
   "execution_count": 9,
   "metadata": {
    "collapsed": true
   },
   "outputs": [],
   "source": [
    "sorted_words = sorted(word_counts_cut, key=lambda x: word_counts[x], reverse=True)"
   ]
  },
  {
   "cell_type": "markdown",
   "metadata": {},
   "source": [
    "Now make the mappings."
   ]
  },
  {
   "cell_type": "code",
   "execution_count": 10,
   "metadata": {
    "collapsed": true
   },
   "outputs": [],
   "source": [
    "word2num = {k:i for i,k in enumerate(sorted_words)}\n",
    "num2word = {i:k for i,k in enumerate(sorted_words)}"
   ]
  },
  {
   "cell_type": "markdown",
   "metadata": {},
   "source": [
    "Now we apply our mapping to the origonal text, replacing each word with a number, or None, if it is a rare word."
   ]
  },
  {
   "cell_type": "code",
   "execution_count": 11,
   "metadata": {
    "collapsed": false
   },
   "outputs": [],
   "source": [
    "int_seq = []\n",
    "for w in text.split():\n",
    "    try:\n",
    "        int_seq.append(word2num[w])\n",
    "    except KeyError:\n",
    "        int_seq.append(None)\n",
    "        "
   ]
  },
  {
   "cell_type": "markdown",
   "metadata": {},
   "source": [
    "## Prepare the skip-gram"
   ]
  },
  {
   "cell_type": "markdown",
   "metadata": {},
   "source": [
    "Use the keras skip gram model to look get pairs of words. These should be the a focal word, and a word in the window. If None is in the list then ignore the item, as this is a rare word. Simply stripping None from the vocab would result in words that may not actually be next to each other being in the list of positives."
   ]
  },
  {
   "cell_type": "markdown",
   "metadata": {},
   "source": [
    "Let's also do this by hand, as the skipgram function seems to be doing weird things."
   ]
  },
  {
   "cell_type": "markdown",
   "metadata": {},
   "source": [
    "Make a list of all positive samples."
   ]
  },
  {
   "cell_type": "code",
   "execution_count": 12,
   "metadata": {
    "collapsed": false
   },
   "outputs": [],
   "source": [
    "positive_samples = []"
   ]
  },
  {
   "cell_type": "code",
   "execution_count": 13,
   "metadata": {
    "collapsed": false
   },
   "outputs": [],
   "source": [
    "for w in range(1, window_size+1):\n",
    "    # Examples which are w behind the focal word, where w goes from one upto the window\n",
    "    # size.\n",
    "    positive_samples += [(int_seq[i], int_seq[i - w]) for i in range(w, len(int_seq))]\n",
    "    # And those that aer n places ahead of the focal word\n",
    "    positive_samples += [(int_seq[i], int_seq[i + w]) for i in range(len(int_seq) - w)]"
   ]
  },
  {
   "cell_type": "markdown",
   "metadata": {},
   "source": [
    "And remove those that have a None in them."
   ]
  },
  {
   "cell_type": "code",
   "execution_count": 14,
   "metadata": {
    "collapsed": false
   },
   "outputs": [],
   "source": [
    "positive_samples = [p for p in positive_samples if None not in p]\n",
    "ps_set = set(positive_samples)"
   ]
  },
  {
   "cell_type": "markdown",
   "metadata": {},
   "source": [
    "And we can generate some random negative samples as well. I'll generate pairs at random, but get rid of those that are actually positive samples. The two classes don't need to be exactly the same size, but roughly is good, which is why I initially generate a few more samples than I actually need, as I will remove some later."
   ]
  },
  {
   "cell_type": "code",
   "execution_count": 15,
   "metadata": {
    "collapsed": false
   },
   "outputs": [],
   "source": [
    "neg_size = int(len(positive_samples)*1.08)"
   ]
  },
  {
   "cell_type": "code",
   "execution_count": 16,
   "metadata": {
    "collapsed": false
   },
   "outputs": [],
   "source": [
    "negative_samples = [(np.random.randint(vocab_size), np.random.randint(vocab_size)) for _ in range(neg_size)]"
   ]
  },
  {
   "cell_type": "markdown",
   "metadata": {},
   "source": [
    "Now remove those negative samples that are actually positive samples by coincidence."
   ]
  },
  {
   "cell_type": "code",
   "execution_count": 17,
   "metadata": {
    "collapsed": false
   },
   "outputs": [],
   "source": [
    "negative_samples = [n for n in negative_samples if n not in ps_set]"
   ]
  },
  {
   "cell_type": "markdown",
   "metadata": {},
   "source": [
    "Create an array of labels, this is just zero and one repeated."
   ]
  },
  {
   "cell_type": "code",
   "execution_count": 18,
   "metadata": {
    "collapsed": false
   },
   "outputs": [],
   "source": [
    "labels = [1]*len(positive_samples) + [0]*len(negative_samples)"
   ]
  },
  {
   "cell_type": "code",
   "execution_count": 19,
   "metadata": {
    "collapsed": true
   },
   "outputs": [],
   "source": [
    "data = positive_samples + negative_samples"
   ]
  },
  {
   "cell_type": "code",
   "execution_count": 20,
   "metadata": {
    "collapsed": false
   },
   "outputs": [],
   "source": [
    "data = np.array(data)\n",
    "labels = np.array(labels)"
   ]
  },
  {
   "cell_type": "code",
   "execution_count": 21,
   "metadata": {
    "collapsed": false
   },
   "outputs": [],
   "source": [
    "train_data, test_data, train_labels, test_labels = train_test_split(data, labels, test_size=0.1)"
   ]
  },
  {
   "cell_type": "code",
   "execution_count": 22,
   "metadata": {
    "collapsed": true
   },
   "outputs": [],
   "source": [
    "x_train = train_data[:,0]\n",
    "y_train = train_data[:,1]\n",
    "x_test = test_data[:,0]\n",
    "y_test = test_data[:,1]"
   ]
  },
  {
   "cell_type": "markdown",
   "metadata": {},
   "source": [
    "## Build the model"
   ]
  },
  {
   "cell_type": "markdown",
   "metadata": {},
   "source": [
    "We have the data and the labels as normal now, so let's see how our model does at predicting them."
   ]
  },
  {
   "cell_type": "code",
   "execution_count": 23,
   "metadata": {
    "collapsed": false
   },
   "outputs": [
    {
     "name": "stderr",
     "output_type": "stream",
     "text": [
      "/Users/simontudge/anaconda/lib/python3.4/site-packages/ipykernel/__main__.py:6: UserWarning: The `merge` function is deprecated and will be removed after 08/2017. Use instead layers from `keras.layers.merge`, e.g. `add`, `concatenate`, etc.\n",
      "/Users/simontudge/anaconda/lib/python3.4/site-packages/keras/legacy/layers.py:464: UserWarning: The `Merge` layer is deprecated and will be removed after 08/2017. Use instead layers from `keras.layers.merge`, e.g. `add`, `concatenate`, etc.\n",
      "  name=name)\n",
      "/Users/simontudge/anaconda/lib/python3.4/site-packages/ipykernel/__main__.py:11: UserWarning: Update your `Model` call to the Keras 2 API: `Model(inputs=[<tf.Tenso..., outputs=Tensor(\"re...)`\n"
     ]
    }
   ],
   "source": [
    "focus = Input(shape=(1,), name='focus')\n",
    "context = Input(shape=(1,), name='context')\n",
    "emb = Embedding(input_dim=vocab_size, output_dim=emb_dim)\n",
    "hid1 = emb(focus)\n",
    "hid2 = emb(context)\n",
    "final = merge([hid1, hid2], mode='dot', dot_axes=2)\n",
    "# the reshape just gets rid of one of the list nestings, as this will confilct\n",
    "# with the labels\n",
    "output = Reshape((1,))(Dense(1, activation='sigmoid')(final))\n",
    "\n",
    "model = Model(input=[focus, context], output=output)"
   ]
  },
  {
   "cell_type": "markdown",
   "metadata": {},
   "source": [
    "Now compile and train the model."
   ]
  },
  {
   "cell_type": "code",
   "execution_count": 24,
   "metadata": {
    "collapsed": true
   },
   "outputs": [],
   "source": [
    "model.compile(loss='binary_crossentropy', optimizer='rmsprop', metrics=['accuracy'])"
   ]
  },
  {
   "cell_type": "code",
   "execution_count": 25,
   "metadata": {
    "collapsed": false
   },
   "outputs": [
    {
     "name": "stdout",
     "output_type": "stream",
     "text": [
      "Epoch 1/5\n",
      "2805223/2805223 [==============================] - 369s 131us/step - loss: 0.2957 - acc: 0.8947\n",
      "Epoch 2/5\n",
      "2805223/2805223 [==============================] - 367s 131us/step - loss: 0.2823 - acc: 0.9046\n",
      "Epoch 3/5\n",
      "2805223/2805223 [==============================] - 386s 138us/step - loss: 0.3466 - acc: 0.8896\n",
      "Epoch 4/5\n",
      "2805223/2805223 [==============================] - 416s 148us/step - loss: 0.4436 - acc: 0.8796\n",
      "Epoch 5/5\n",
      "2805223/2805223 [==============================] - 407s 145us/step - loss: 0.5465 - acc: 0.8753\n"
     ]
    },
    {
     "data": {
      "text/plain": [
       "<keras.callbacks.History at 0x11e192be0>"
      ]
     },
     "execution_count": 25,
     "metadata": {},
     "output_type": "execute_result"
    }
   ],
   "source": [
    "model.fit([x_train, y_train], train_labels, epochs=5)"
   ]
  },
  {
   "cell_type": "code",
   "execution_count": 26,
   "metadata": {
    "collapsed": false
   },
   "outputs": [
    {
     "name": "stdout",
     "output_type": "stream",
     "text": [
      "311692/311692 [==============================] - 6s 21us/step\n"
     ]
    }
   ],
   "source": [
    "_, ac = model.evaluate([x_test, y_test], test_labels)"
   ]
  },
  {
   "cell_type": "code",
   "execution_count": 27,
   "metadata": {
    "collapsed": false
   },
   "outputs": [
    {
     "name": "stdout",
     "output_type": "stream",
     "text": [
      "Accuracy: 0.906276067400634\n"
     ]
    }
   ],
   "source": [
    "print(\"Accuracy: {}\".format(ac))"
   ]
  },
  {
   "cell_type": "markdown",
   "metadata": {},
   "source": [
    "## Inspect the model"
   ]
  },
  {
   "cell_type": "markdown",
   "metadata": {},
   "source": [
    "Now that we have a trained model, let's see what we can do with it."
   ]
  },
  {
   "cell_type": "markdown",
   "metadata": {},
   "source": [
    "* Look at top matching words, e.g. which 8 words are most like 'the' or 'hamlet'\n",
    "* Word vectors: Offilia is to hamlet as Juliet is to.... etc.\n",
    "* Plane visualistation of all the different words"
   ]
  },
  {
   "cell_type": "markdown",
   "metadata": {},
   "source": [
    "Use the trick mentioned in this [blog post]() which says that we can use keras to find the similiarity between two layers using another model."
   ]
  },
  {
   "cell_type": "code",
   "execution_count": 28,
   "metadata": {
    "collapsed": false
   },
   "outputs": [
    {
     "name": "stderr",
     "output_type": "stream",
     "text": [
      "/Users/simontudge/anaconda/lib/python3.4/site-packages/ipykernel/__main__.py:1: UserWarning: The `merge` function is deprecated and will be removed after 08/2017. Use instead layers from `keras.layers.merge`, e.g. `add`, `concatenate`, etc.\n",
      "  if __name__ == '__main__':\n",
      "/Users/simontudge/anaconda/lib/python3.4/site-packages/keras/legacy/layers.py:464: UserWarning: The `Merge` layer is deprecated and will be removed after 08/2017. Use instead layers from `keras.layers.merge`, e.g. `add`, `concatenate`, etc.\n",
      "  name=name)\n",
      "/Users/simontudge/anaconda/lib/python3.4/site-packages/ipykernel/__main__.py:2: UserWarning: Update your `Model` call to the Keras 2 API: `Model(inputs=[<tf.Tenso..., outputs=Tensor(\"re...)`\n",
      "  from ipykernel import kernelapp as app\n"
     ]
    }
   ],
   "source": [
    "sim = Reshape((1,))(merge([hid1, hid2], mode='cos', dot_axes=2))\n",
    "model2 = Model(inputs=[focus, context], output=sim)"
   ]
  },
  {
   "cell_type": "code",
   "execution_count": 29,
   "metadata": {
    "collapsed": true
   },
   "outputs": [],
   "source": [
    "def nearest_words(word, n=8):\n",
    "    \"\"\"\n",
    "    Returns the n nearest words to the vector given.\n",
    "    \"\"\"\n",
    "    \n",
    "    # Look up the integer of this word\n",
    "    Int = word2num[word]\n",
    "    # Compute all distances\n",
    "    x = np.array([Int]*vocab_size)\n",
    "    y = np.array(range(vocab_size))\n",
    "    \n",
    "    distances = model2.predict([x,y]).flatten()\n",
    "    top_matches = list(distances.argsort()[-n-1:-1])\n",
    "    top_matches.reverse()\n",
    "    \n",
    "    # And decode these to actual words\n",
    "    return [num2word[i] for i in top_matches]"
   ]
  },
  {
   "cell_type": "markdown",
   "metadata": {},
   "source": [
    "Key words. Fairly arbitrary list of key words to look at, including the most common words and a few I chose myself."
   ]
  },
  {
   "cell_type": "code",
   "execution_count": 30,
   "metadata": {
    "collapsed": false
   },
   "outputs": [],
   "source": [
    "lookup_words = sorted_words[:5] + ['hamlet', 'cleopatra'] +['one', 'two'] + list(np.random.choice(sorted_words, 6))"
   ]
  },
  {
   "cell_type": "code",
   "execution_count": 31,
   "metadata": {
    "collapsed": false
   },
   "outputs": [
    {
     "name": "stdout",
     "output_type": "stream",
     "text": [
      "the\n",
      "['a', 'my', 'your', 'his', 'thy', 'this', 'our', 'an']\n",
      "and\n",
      "['but', 'or', 'than', 'nor', 'which', 'why', 'enter', 'o']\n",
      "i\n",
      "['we', 'thou', 'they', 'he', 'she', 'you', 'ill', 'exit']\n",
      "to\n",
      "['in', 'with', 'at', 'of', 'by', 'from', 'o', 'on']\n",
      "of\n",
      "['with', 'at', 'from', 'for', 'o', 'in', 'by', 'upon']\n",
      "hamlet\n",
      "['timon', 'othello', 'macbeth', 'hastings', 'capulet', 'chamberlain', 'angelo', 'gracious']\n",
      "cleopatra\n",
      "['bolingbroke', 'silvia', 'englands', 'falln', 'olivia', 'yourselves', 'pericles', 'juliet']\n",
      "one\n",
      "['it', 'her', 'them', 'these', 'their', 'mine', 'our', 'us']\n",
      "two\n",
      "['still', 'down', 'peace', 'blood', 'both', 'lords', 'three', 'death']\n",
      "worship\n",
      "['army', 'cheek', 'knees', 'bones', 'woes', 'beard', 'curse', 'whore']\n",
      "cares\n",
      "['ends', 'persons', 'knocks', 'slept', 'breaks', 'friendly', 'shines', 'creatures']\n",
      "trees\n",
      "['imagination', 'bohemia', 'lifes', 'human', 'choler', 'suits', 'semblance', 'running']\n",
      "touching\n",
      "['nest', 'pearl', 'youthful', 'manly', 'lodging', 'beauteous', 'tall', 'willow']\n",
      "keeper\n",
      "['merchant', 'servingman', 'musician', 'fisherman', 'murtherer', 'outlaw', 'witch', 'manners']\n",
      "begun\n",
      "['ripe', 'tales', 'lower', 'hanging', 'audrey', 'drinking', 'minds', 'merely']\n"
     ]
    }
   ],
   "source": [
    "for word in lookup_words:\n",
    "    print(word)\n",
    "    print(nearest_words(word))"
   ]
  },
  {
   "cell_type": "markdown",
   "metadata": {},
   "source": [
    "Now do some vector additions."
   ]
  },
  {
   "cell_type": "markdown",
   "metadata": {},
   "source": [
    "Get the vector for a given word."
   ]
  },
  {
   "cell_type": "code",
   "execution_count": 32,
   "metadata": {
    "collapsed": false
   },
   "outputs": [
    {
     "name": "stderr",
     "output_type": "stream",
     "text": [
      "/Users/simontudge/anaconda/lib/python3.4/site-packages/ipykernel/__main__.py:1: UserWarning: Update your `Model` call to the Keras 2 API: `Model(inputs=Tensor(\"fo..., outputs=Tensor(\"em...)`\n",
      "  if __name__ == '__main__':\n"
     ]
    }
   ],
   "source": [
    "embedding = Model(input=focus, output=hid1)\n",
    "def get_vec(word):\n",
    "    Int = word2num[word]\n",
    "    out = embedding.predict(np.array([Int]))\n",
    "    return out[0]"
   ]
  },
  {
   "cell_type": "markdown",
   "metadata": {},
   "source": [
    "Should this be romeo?"
   ]
  },
  {
   "cell_type": "markdown",
   "metadata": {},
   "source": [
    "Define yet another model in order to get the nearest vector to another vector."
   ]
  },
  {
   "cell_type": "code",
   "execution_count": 33,
   "metadata": {
    "collapsed": false
   },
   "outputs": [
    {
     "name": "stderr",
     "output_type": "stream",
     "text": [
      "/Users/simontudge/anaconda/lib/python3.4/site-packages/ipykernel/__main__.py:4: UserWarning: The `merge` function is deprecated and will be removed after 08/2017. Use instead layers from `keras.layers.merge`, e.g. `add`, `concatenate`, etc.\n",
      "/Users/simontudge/anaconda/lib/python3.4/site-packages/keras/legacy/layers.py:464: UserWarning: The `Merge` layer is deprecated and will be removed after 08/2017. Use instead layers from `keras.layers.merge`, e.g. `add`, `concatenate`, etc.\n",
      "  name=name)\n"
     ]
    }
   ],
   "source": [
    "in_vec = Input((1,emb_dim,), name='in_v')\n",
    "y = Input((1,), name='in_int')\n",
    "emby = emb(y)\n",
    "closeness = Reshape((1,))(merge([in_vec, emby], mode='cos', dot_axes=2))\n",
    "nearest_vec_model = Model(inputs=[in_vec, y], outputs=closeness)\n"
   ]
  },
  {
   "cell_type": "code",
   "execution_count": 48,
   "metadata": {
    "collapsed": false
   },
   "outputs": [],
   "source": [
    "def nearest_to_vec(vec):\n",
    "    \"\"\"\n",
    "    Finds the word that is nearest to the input vector.\n",
    "    \"\"\"\n",
    "    x = np.array(list([vec])*vocab_size)\n",
    "    print(x.shape)\n",
    "    y = np.array(range(vocab_size))\n",
    "    distances = nearest_vec_model.predict([x,y])\n",
    "    return num2word[distances.argmin()]"
   ]
  },
  {
   "cell_type": "markdown",
   "metadata": {},
   "source": [
    "i - me = we - us"
   ]
  },
  {
   "cell_type": "code",
   "execution_count": 57,
   "metadata": {
    "collapsed": false
   },
   "outputs": [
    {
     "name": "stdout",
     "output_type": "stream",
     "text": [
      "(3082, 1, 128)\n"
     ]
    },
    {
     "data": {
      "text/plain": [
       "'him'"
      ]
     },
     "execution_count": 57,
     "metadata": {},
     "output_type": "execute_result"
    }
   ],
   "source": [
    "nearest_to_vec(get_vec('i') - get_vec('me') - get_vec('we'))"
   ]
  },
  {
   "cell_type": "code",
   "execution_count": 50,
   "metadata": {
    "collapsed": false
   },
   "outputs": [
    {
     "name": "stdout",
     "output_type": "stream",
     "text": [
      "(3082, 1, 128)\n"
     ]
    },
    {
     "data": {
      "text/plain": [
       "'exit'"
      ]
     },
     "execution_count": 50,
     "metadata": {},
     "output_type": "execute_result"
    }
   ],
   "source": [
    "nearest_to_vec(get_vec('ophelia') - get_vec('hamlet') + get_vec('romeo'))"
   ]
  },
  {
   "cell_type": "code",
   "execution_count": 51,
   "metadata": {
    "collapsed": false
   },
   "outputs": [
    {
     "name": "stdout",
     "output_type": "stream",
     "text": [
      "(3082, 1, 128)\n"
     ]
    },
    {
     "data": {
      "text/plain": [
       "'whose'"
      ]
     },
     "execution_count": 51,
     "metadata": {},
     "output_type": "execute_result"
    }
   ],
   "source": [
    "nearest_to_vec(get_vec('hate') - get_vec('love') + get_vec('happy'))"
   ]
  },
  {
   "cell_type": "markdown",
   "metadata": {},
   "source": [
    "Plotting of the embedding..."
   ]
  },
  {
   "cell_type": "markdown",
   "metadata": {},
   "source": [
    "After a little experimentation it looks like this approach does not really work in this case! I wonder why that is!"
   ]
  },
  {
   "cell_type": "code",
   "execution_count": 38,
   "metadata": {
    "collapsed": true
   },
   "outputs": [],
   "source": [
    "from sklearn.manifold import TSNE"
   ]
  },
  {
   "cell_type": "markdown",
   "metadata": {},
   "source": [
    "We need to instantiate this class we some parameters, then pass a list of the embeddings to the class. We can then plot the output and annotate with the list of words."
   ]
  },
  {
   "cell_type": "code",
   "execution_count": 39,
   "metadata": {
    "collapsed": false
   },
   "outputs": [],
   "source": [
    "embedding_matrix = emb.get_weights()[0]"
   ]
  },
  {
   "cell_type": "code",
   "execution_count": 40,
   "metadata": {
    "collapsed": false
   },
   "outputs": [],
   "source": [
    "tsne = TSNE(init='pca')\n",
    "projections = tsne.fit_transform(embedding_matrix)"
   ]
  },
  {
   "cell_type": "code",
   "execution_count": 41,
   "metadata": {
    "collapsed": true
   },
   "outputs": [],
   "source": [
    "import matplotlib.pyplot as plt\n",
    "\n",
    "%matplotlib inline"
   ]
  },
  {
   "cell_type": "code",
   "execution_count": 44,
   "metadata": {
    "collapsed": false
   },
   "outputs": [
    {
     "data": {
      "text/plain": [
       "(90, 96)"
      ]
     },
     "execution_count": 44,
     "metadata": {},
     "output_type": "execute_result"
    },
    {
     "name": "stderr",
     "output_type": "stream",
     "text": [
      "/Users/simontudge/anaconda/lib/python3.4/site-packages/matplotlib/collections.py:590: FutureWarning: elementwise comparison failed; returning scalar instead, but in the future will perform elementwise comparison\n",
      "  if self._edgecolors == str('face'):\n"
     ]
    },
    {
     "data": {
      "image/png": "[encoded data removed]",
      "text/plain": [
       "<matplotlib.figure.Figure at 0x11f1a4cc0>"
      ]
     },
     "metadata": {},
     "output_type": "display_data"
    }
   ],
   "source": [
    "_, ax = plt.subplots(figsize=(18,18))\n",
    "for point, word in zip(projections[:150], sorted_words[:150]):\n",
    "    ax.scatter(*point)\n",
    "    ax.annotate(word, point)\n",
    "ax.set_xlim(90,96)"
   ]
  },
  {
   "cell_type": "code",
   "execution_count": null,
   "metadata": {
    "collapsed": true
   },
   "outputs": [],
   "source": []
  }
 ],
 "metadata": {
  "kernelspec": {
   "display_name": "Python 3",
   "language": "python",
   "name": "python3"
  },
  "language_info": {
   "codemirror_mode": {
    "name": "ipython",
    "version": 3
   },
   "file_extension": ".py",
   "mimetype": "text/x-python",
   "name": "python",
   "nbconvert_exporter": "python",
   "pygments_lexer": "ipython3",
   "version": "3.4.5"
  }
 },
 "nbformat": 4,
 "nbformat_minor": 0
}
