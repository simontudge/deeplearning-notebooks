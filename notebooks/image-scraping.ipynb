{
 "cells": [
  {
   "cell_type": "markdown",
   "metadata": {},
   "source": [
    "# Search Google Images"
   ]
  },
  {
   "cell_type": "markdown",
   "metadata": {},
   "source": [
    "Is it possible to scrape the web, either using a google API or a more hacky solution, to automatically get images of a certain thing from the web? e.g. 10000 images of a dog?"
   ]
  },
  {
   "cell_type": "markdown",
   "metadata": {},
   "source": [
    "The way in which we do this is as follows:\n",
    "    - Use the request library to go to google images and search for something, e.g. cats.\n",
    "    - Parse the resulting html for image urls.\n",
    "    - Then we get the images (also with request) by looping through the URLs."
   ]
  },
  {
   "cell_type": "code",
   "execution_count": null,
   "metadata": {
    "collapsed": true
   },
   "outputs": [],
   "source": [
    "import requests\n",
    "from IPython.display import HTML\n",
    "\n",
    "from PIL import Image\n",
    "from io import BytesIO\n",
    "\n",
    "import os"
   ]
  },
  {
   "cell_type": "code",
   "execution_count": null,
   "metadata": {
    "collapsed": false
   },
   "outputs": [],
   "source": [
    "class ImageIterator:\n",
    "    \"\"\"\n",
    "    Class that is used as an iterator. Runs over urls of images for a given\n",
    "    search term, upto a maximum number.\n",
    "    \n",
    "    e.g.\n",
    "    ```\n",
    "    for url in ImageIterator(\"cat\", 64):\n",
    "        print(url)\n",
    "    ```    \n",
    "    \"\"\"\n",
    "    \n",
    "    # These are class variables rather than belonging to an object, as they are\n",
    "    # always the same.\n",
    "    end_point = \"https://api.cognitive.microsoft.com/bing/v7.0/images/search\"\n",
    "    key = \"b65626c787084c74955266b935f8d1ff\"\n",
    "    # This is the maximum number of images that bing lets us fetch at one\n",
    "    # go.\n",
    "    MAX_IMAGES = 150\n",
    "    \n",
    "    def __init__(self, search_term, max_values):\n",
    "        \"\"\"\n",
    "        Input:\n",
    "        search_term: str of what to search for, e.g. \"cat\"\n",
    "        max_values: int\n",
    "            Stop iterating after this many values, may stop\n",
    "            before this if fewer than this are returned by\n",
    "            bing.\n",
    "        \"\"\"\n",
    "\n",
    "        self.search_term = search_term\n",
    "        self.max_values = max_values\n",
    "        \n",
    "    # Does a search and returns urls\n",
    "    def _search(self, total, skip):\n",
    "        headers = {\"Ocp-Apim-Subscription-Key\" : self.key}\n",
    "        params  = {\"q\": self.search_term, \"count\":total, \"offset\":skip}\n",
    "        response = requests.get(self.end_point, headers=headers, params=params)\n",
    "        response.raise_for_status()\n",
    "        search_results = response.json()\n",
    "        self.total_images = search_results['totalEstimatedMatches']\n",
    "        self.max_values = min([self.max_values, self.total_images])\n",
    "        return (el['contentUrl'] for el in search_results['value'])\n",
    "\n",
    "    def __iter__(self):\n",
    "        self.page_number = 0\n",
    "        self.images_returned = 0\n",
    "        self.search_results = self._search(min([self.MAX_IMAGES, self.max_values]), 0)\n",
    "        return self\n",
    "    \n",
    "    def __next__(self):\n",
    "        self.images_returned += 1\n",
    "        if self.images_returned > self.max_values:\n",
    "            raise StopIteration\n",
    "        else:\n",
    "            try:\n",
    "                return next(self.search_results)\n",
    "            # This means that this iteration has finished, but the user still\n",
    "            # wants more, which means we have to call the API again with some\n",
    "            # pagination\n",
    "            except StopIteration:\n",
    "                remaining_images = self.max_values - self.images_returned\n",
    "                next_return = min([self.MAX_IMAGES, remaining_images])\n",
    "                page = self.images_returned\n",
    "                self.search_results = self._search(next_return, page)\n",
    "                return next(self.search_results)\n"
   ]
  },
  {
   "cell_type": "code",
   "execution_count": null,
   "metadata": {
    "collapsed": false
   },
   "outputs": [],
   "source": [
    "def process_image(url, directory=None, name=None, size=400):\n",
    "    \"\"\"\n",
    "    Gets the image from a url, makes it square and turns it black\n",
    "    and white and saves to a directory.\n",
    "    \"\"\"\n",
    "    \n",
    "    try:\n",
    "        response = requests.get(url, timeout=1.)\n",
    "        img = Image.open(BytesIO(response.content))\n",
    "        img = img.resize((size,size)).convert('L')\n",
    "        if name is None:\n",
    "            return img\n",
    "        file_name = os.path.join(directory, name)\n",
    "        img.save(file_name)\n",
    "    except:\n",
    "        print(\"Can't do {}\".format(url))"
   ]
  },
  {
   "cell_type": "code",
   "execution_count": null,
   "metadata": {
    "collapsed": true
   },
   "outputs": [],
   "source": [
    "base_dir = \"../data/convnet\""
   ]
  },
  {
   "cell_type": "code",
   "execution_count": null,
   "metadata": {
    "collapsed": true
   },
   "outputs": [],
   "source": [
    "def do_for_term(term, total=1000):\n",
    "    \"\"\"\n",
    "    Run the whole thing for a search term.\n",
    "    \"\"\"\n",
    "    \n",
    "    safe_term = term.replace(\" \", \"_\")\n",
    "\n",
    "    DIR = os.path.join(base_dir, safe_term)\n",
    "\n",
    "    try:\n",
    "        os.mkdir(os.path.join(base_dir, \"{}\".format(safe_term)))\n",
    "    except FileExistsError:\n",
    "        pass\n",
    "    \n",
    "    for i,url in enumerate(ImageIterator(term, total)):\n",
    "        print(i)\n",
    "        name=\"{}_{}.jpg\".format(safe_term, i)\n",
    "        pi = process_image(url, size=128, directory=DIR, name=name)"
   ]
  },
  {
   "cell_type": "code",
   "execution_count": null,
   "metadata": {
    "collapsed": false,
    "scrolled": true
   },
   "outputs": [],
   "source": [
    "do_for_term(\"cat\")"
   ]
  },
  {
   "cell_type": "code",
   "execution_count": null,
   "metadata": {
    "collapsed": false,
    "scrolled": true
   },
   "outputs": [],
   "source": [
    "do_for_term(\"dog\")"
   ]
  },
  {
   "cell_type": "code",
   "execution_count": null,
   "metadata": {
    "collapsed": false
   },
   "outputs": [],
   "source": [
    "do_for_term(\"monkey\")"
   ]
  },
  {
   "cell_type": "code",
   "execution_count": null,
   "metadata": {
    "collapsed": false
   },
   "outputs": [],
   "source": [
    "do_for_term(\"donald trump\")"
   ]
  },
  {
   "cell_type": "code",
   "execution_count": null,
   "metadata": {
    "collapsed": false
   },
   "outputs": [],
   "source": [
    "do_for_term(\"donkey\")"
   ]
  },
  {
   "cell_type": "code",
   "execution_count": null,
   "metadata": {
    "collapsed": true
   },
   "outputs": [],
   "source": []
  }
 ],
 "metadata": {
  "kernelspec": {
   "display_name": "Python 3",
   "language": "python",
   "name": "python3"
  },
  "language_info": {
   "codemirror_mode": {
    "name": "ipython",
    "version": 3
   },
   "file_extension": ".py",
   "mimetype": "text/x-python",
   "name": "python",
   "nbconvert_exporter": "python",
   "pygments_lexer": "ipython3",
   "version": "3.4.5"
  }
 },
 "nbformat": 4,
 "nbformat_minor": 0
}
