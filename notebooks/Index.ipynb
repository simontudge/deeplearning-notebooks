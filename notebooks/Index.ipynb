{
 "cells": [
  {
   "cell_type": "markdown",
   "metadata": {},
   "source": [
    "# Index"
   ]
  },
  {
   "cell_type": "markdown",
   "metadata": {},
   "source": [
    "Index for navigating the other notebooks in this directory."
   ]
  },
  {
   "cell_type": "markdown",
   "metadata": {},
   "source": [
    "## Convolutional Neural Networks"
   ]
  },
  {
   "cell_type": "markdown",
   "metadata": {},
   "source": [
    "The aim of this project is to use a web search API, in this case Bing, to automatically download many pictures of a certain animal or other object or famous person, and then to train a convolutional neural network to learn to recognise the pictures. One notebook generates the pictures and the other trains the model. They are:\n",
    "* [Image Gathering notebook](./image-scraping.ipynb)\n",
    "* [Convolutional Neural Networks](./convnets.ipynb)"
   ]
  },
  {
   "cell_type": "markdown",
   "metadata": {},
   "source": [
    "## LSTMs"
   ]
  },
  {
   "cell_type": "markdown",
   "metadata": {},
   "source": [
    "The idea of this project is to train a Recurent Neural Network (or more specifically a LSTM) on a corpus of text. The example given here is the complete works of shakespeare. The idea is then to have the network generate some pseudo text in that style. The gathering of the data and the training of the model happen in different notebooks:\n",
    "* [Text Preperation Notebook](prep_text.ipynb)\n",
    "* [LSTM Notebook](lstms.ipynb)"
   ]
  },
  {
   "cell_type": "markdown",
   "metadata": {},
   "source": [
    "## Word2Vec"
   ]
  },
  {
   "cell_type": "markdown",
   "metadata": {},
   "source": [
    "Some experimentation with word2vec algorithms, in particular skip grams. I take the complete works of shakespeare and embed the most common words in a lower dimentional space and look at the properties of this space. The pre-processing uses the same notebook as above ([Text Preperation](text_prep.ipynb)). The main logic of the project is found in the notebook:\n",
    "* [Word2Vec](Word2Vec.ipynb)"
   ]
  },
  {
   "cell_type": "code",
   "execution_count": null,
   "metadata": {
    "collapsed": true
   },
   "outputs": [],
   "source": []
  }
 ],
 "metadata": {
  "kernelspec": {
   "display_name": "Python 3",
   "language": "python",
   "name": "python3"
  },
  "language_info": {
   "codemirror_mode": {
    "name": "ipython",
    "version": 3
   },
   "file_extension": ".py",
   "mimetype": "text/x-python",
   "name": "python",
   "nbconvert_exporter": "python",
   "pygments_lexer": "ipython3",
   "version": "3.4.5"
  }
 },
 "nbformat": 4,
 "nbformat_minor": 0
}
